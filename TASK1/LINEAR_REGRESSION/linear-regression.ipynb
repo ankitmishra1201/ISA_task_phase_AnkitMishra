{
 "cells": [
  {
   "cell_type": "code",
   "execution_count": 4,
   "id": "3605f284",
   "metadata": {},
   "outputs": [],
   "source": [
    "#importing libraries#\n",
    "import pandas as pd\n",
    "import numpy as np\n",
    "import matplotlib.pyplot as plt\n",
    "import numpy.matlib"
   ]
  },
  {
   "cell_type": "code",
   "execution_count": 5,
   "id": "d0bc5d5d",
   "metadata": {},
   "outputs": [
    {
     "name": "stdout",
     "output_type": "stream",
     "text": [
      "    Species  Weight  Length1  Length2  Length3   Height   Width\n",
      "0     Bream   242.0     23.2     25.4     30.0  11.5200  4.0200\n",
      "1     Bream   290.0     24.0     26.3     31.2  12.4800  4.3056\n",
      "2     Bream   340.0     23.9     26.5     31.1  12.3778  4.6961\n",
      "3     Bream   363.0     26.3     29.0     33.5  12.7300  4.4555\n",
      "4     Bream   430.0     26.5     29.0     34.0  12.4440  5.1340\n",
      "..      ...     ...      ...      ...      ...      ...     ...\n",
      "154   Smelt    12.2     11.5     12.2     13.4   2.0904  1.3936\n",
      "155   Smelt    13.4     11.7     12.4     13.5   2.4300  1.2690\n",
      "156   Smelt    12.2     12.1     13.0     13.8   2.2770  1.2558\n",
      "157   Smelt    19.7     13.2     14.3     15.2   2.8728  2.0672\n",
      "158   Smelt    19.9     13.8     15.0     16.2   2.9322  1.8792\n",
      "\n",
      "[159 rows x 7 columns]\n"
     ]
    }
   ],
   "source": [
    "#READING THE CSV FILE\n",
    "df=pd.read_csv('Fish.csv')\n",
    "print(df)\n"
   ]
  },
  {
   "cell_type": "code",
   "execution_count": 13,
   "id": "2b8719af",
   "metadata": {},
   "outputs": [],
   "source": [
    "#FOR MATRIX OPERATION, SETTING UP ARRAY IS NECESSARY\n",
    "X = df[['Length1','Length2','Length3','Height','Width']]\n",
    "Y = df['Weight']\n",
    "\n",
    "X=X.to_numpy()\n",
    "Y=Y.to_numpy()"
   ]
  },
  {
   "cell_type": "code",
   "execution_count": 14,
   "id": "5082c6e8",
   "metadata": {},
   "outputs": [],
   "source": [
    "sz=X.shape\n",
    "\n",
    "nic=sz[1]\n",
    "n = float(len(df['Species']))"
   ]
  },
  {
   "cell_type": "code",
   "execution_count": 15,
   "id": "3bd2803b",
   "metadata": {},
   "outputs": [],
   "source": [
    "#calculation of mean and standard deviation \n",
    "X_mn=np.mean(X,axis=0)\n",
    "X_sd=np.std(X,axis=0)\n",
    "X=(X-X_mn)/X_sd\n",
    "#normalization of data in X to get a better fitting plot\n",
    "Y_mn=np.mean(Y)\n",
    "Y_sd=np.std(Y)\n",
    "Y=(Y-Y_mn)/Y_sd\n",
    "#normalisation of data in Y to get a better fitting plot\n",
    "\n"
   ]
  },
  {
   "cell_type": "code",
   "execution_count": 16,
   "id": "485af3f9",
   "metadata": {},
   "outputs": [],
   "source": [
    "#MAKING 2-D ARRAY OF PATICULAR SHAPE\n",
    "m=np.zeros([nic, 1],dtype=float)\n",
    "D_m=np.zeros([nic, 1],dtype=float)\n",
    "c = 0\n",
    "D_c=0\n"
   ]
  },
  {
   "cell_type": "code",
   "execution_count": 17,
   "id": "95cd7e46",
   "metadata": {},
   "outputs": [
    {
     "name": "stdout",
     "output_type": "stream",
     "text": [
      "[[ 0.46162125]\n",
      " [ 0.30466567]\n",
      " [-0.13619588]\n",
      " [ 0.17922574]\n",
      " [ 0.19783195]]\n",
      "1.664943514992089e-16\n"
     ]
    }
   ],
   "source": [
    "L = 0.001\n",
    "iterations = 100000\n",
    "n = float(len(df['Weight']))\n",
    "for i in range(iterations):\n",
    "\n",
    "    Yf=sum(numpy.transpose(X)*m)+c \n",
    "    kp=0\n",
    "    for j in range(nic):\n",
    "        D_m[kp,0]=(-2/n)*sum(X[:,kp]*(Y-Yf))\n",
    "        #first differenciation of the cost function with respect to slope of each independent variable\n",
    "        m[kp,0]=m[kp,0]-L*D_m[kp,0]\n",
    "        #updating the values after each iteration\n",
    "        kp=kp+1\n",
    "    D_c=(-2/n)*sum(Y-Yf)\n",
    "    #differenciation of cost function with respect to c\n",
    "    c=c-L*D_c\n",
    "    #updating value of c\n",
    "\n",
    "print(m)\n",
    "print(c)"
   ]
  },
  {
   "cell_type": "code",
   "execution_count": 18,
   "id": "4ef63bc0",
   "metadata": {},
   "outputs": [
    {
     "data": {
      "image/png": "[encoded data removed]",
      "text/plain": [
       "<Figure size 432x288 with 4 Axes>"
      ]
     },
     "metadata": {
      "needs_background": "light"
     },
     "output_type": "display_data"
    }
   ],
   "source": [
    "\n",
    "kp=0\n",
    "for i in range(nic-1):\n",
    "    plt.subplot(3,4,kp+1)\n",
    "    plt.scatter(X[:,kp],Y, s=2)\n",
    "    plt.plot(X[:,kp],X[:,kp]*m[kp]+c,color='red')\n",
    "    kp=kp+1\n",
    "plt.show()"
   ]
  },
  {
   "cell_type": "code",
   "execution_count": null,
   "id": "7678ba0c",
   "metadata": {},
   "outputs": [],
   "source": []
  },
  {
   "cell_type": "code",
   "execution_count": null,
   "id": "2e4d2947",
   "metadata": {},
   "outputs": [],
   "source": []
  },
  {
   "cell_type": "code",
   "execution_count": null,
   "id": "0d401539",
   "metadata": {},
   "outputs": [],
   "source": []
  }
 ],
 "metadata": {
  "kernelspec": {
   "display_name": "Python 3",
   "language": "python",
   "name": "python3"
  },
  "language_info": {
   "codemirror_mode": {
    "name": "ipython",
    "version": 3
   },
   "file_extension": ".py",
   "mimetype": "text/x-python",
   "name": "python",
   "nbconvert_exporter": "python",
   "pygments_lexer": "ipython3",
   "version": "3.8.5"
  }
 },
 "nbformat": 4,
 "nbformat_minor": 5
}
